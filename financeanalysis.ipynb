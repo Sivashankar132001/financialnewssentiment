{
  "nbformat": 4,
  "nbformat_minor": 0,
  "metadata": {
    "colab": {
      "provenance": []
    },
    "kernelspec": {
      "name": "python3",
      "display_name": "Python 3"
    },
    "language_info": {
      "name": "python"
    }
  },
  "cells": [
    {
      "cell_type": "markdown",
      "source": [
        "Financial Market Sentiment News Analysis"
      ],
      "metadata": {
        "id": "O1ejmcEE9Iku"
      }
    },
    {
      "cell_type": "markdown",
      "source": [
        "**Objective:**\n",
        "\n",
        "The objective of this project is to analyze financial market sentiment using news articles and financial data. By processing and analyzing the sentiment of news related to the financial market, we aim to predict market trends and provide insights for investment strategies."
      ],
      "metadata": {
        "id": "6HMi97Qj9S2E"
      }
    },
    {
      "cell_type": "code",
      "execution_count": 3,
      "metadata": {
        "colab": {
          "base_uri": "https://localhost:8080/"
        },
        "id": "3Nyf54NG3Gha",
        "outputId": "5a7bfb3d-338e-4613-b1c6-08d38f9265f1"
      },
      "outputs": [
        {
          "output_type": "stream",
          "name": "stdout",
          "text": [
            "Requirement already satisfied: pandas in /usr/local/lib/python3.10/dist-packages (2.0.3)\n",
            "Requirement already satisfied: nltk in /usr/local/lib/python3.10/dist-packages (3.8.1)\n",
            "Requirement already satisfied: textblob in /usr/local/lib/python3.10/dist-packages (0.17.1)\n",
            "Requirement already satisfied: python-dateutil>=2.8.2 in /usr/local/lib/python3.10/dist-packages (from pandas) (2.8.2)\n",
            "Requirement already satisfied: pytz>=2020.1 in /usr/local/lib/python3.10/dist-packages (from pandas) (2023.4)\n",
            "Requirement already satisfied: tzdata>=2022.1 in /usr/local/lib/python3.10/dist-packages (from pandas) (2024.1)\n",
            "Requirement already satisfied: numpy>=1.21.0 in /usr/local/lib/python3.10/dist-packages (from pandas) (1.25.2)\n",
            "Requirement already satisfied: click in /usr/local/lib/python3.10/dist-packages (from nltk) (8.1.7)\n",
            "Requirement already satisfied: joblib in /usr/local/lib/python3.10/dist-packages (from nltk) (1.4.2)\n",
            "Requirement already satisfied: regex>=2021.8.3 in /usr/local/lib/python3.10/dist-packages (from nltk) (2024.5.15)\n",
            "Requirement already satisfied: tqdm in /usr/local/lib/python3.10/dist-packages (from nltk) (4.66.4)\n",
            "Requirement already satisfied: six>=1.5 in /usr/local/lib/python3.10/dist-packages (from python-dateutil>=2.8.2->pandas) (1.16.0)\n"
          ]
        }
      ],
      "source": [
        "!pip install pandas nltk textblob"
      ]
    },
    {
      "cell_type": "markdown",
      "source": [
        "**Import Library:**"
      ],
      "metadata": {
        "id": "vXiCuh7E9cGd"
      }
    },
    {
      "cell_type": "code",
      "source": [
        "import pandas as pd\n",
        "import nltk\n",
        "from nltk.corpus import stopwords\n",
        "from nltk.tokenize import word_tokenize\n",
        "from textblob import TextBlob\n",
        "import matplotlib.pyplot as plt"
      ],
      "metadata": {
        "id": "kSkejI2o5pLC"
      },
      "execution_count": 4,
      "outputs": []
    },
    {
      "cell_type": "markdown",
      "source": [
        "Data Visualization & Data Preprocessing"
      ],
      "metadata": {
        "id": "zICVYMU99mZP"
      }
    },
    {
      "cell_type": "code",
      "source": [
        "csv_file_path = 'Financial Market News.csv'\n",
        "\n",
        "# Specify encoding to handle potential UnicodeDecodeError\n",
        "financial_news_df = pd.read_csv(csv_file_path, encoding='ISO-8859-1')\n",
        "\n",
        "# Display the first few rows of the dataframe\n",
        "print(financial_news_df.head())\n",
        "\n",
        "# Step 4: Data Preprocessing\n",
        "# Remove any rows with missing values\n",
        "financial_news_df.dropna(inplace=True)\n",
        "\n",
        "# Concatenate news columns into a single 'text' column\n",
        "news_columns = [col for col in financial_news_df.columns if 'News' in col]\n",
        "financial_news_df['text'] = financial_news_df[news_columns].apply(lambda x: ' '.join(x.dropna().astype(str)), axis=1)\n",
        "\n",
        "# Tokenization and stop word removal\n",
        "stop_words = set(stopwords.words('english'))\n",
        "financial_news_df['processed_text'] = financial_news_df['text'].apply(lambda x: ' '.join(\n",
        "    word for word in word_tokenize(x.lower()) if word.isalpha() and word not in stop_words))"
      ],
      "metadata": {
        "colab": {
          "base_uri": "https://localhost:8080/"
        },
        "id": "W4SZr9t23TeA",
        "outputId": "1e2d3a3b-9410-447b-f623-d4f30bada286"
      },
      "execution_count": 11,
      "outputs": [
        {
          "output_type": "stream",
          "name": "stdout",
          "text": [
            "         Date  Label                                             News 1  \\\n",
            "0  01-01-2010      0           McIlroy's men catch cold from Gudjonsson   \n",
            "1  02-01-2010      0               Warning from history points to crash   \n",
            "2  03-01-2010      0      Comment: Why Israel's peaceniks feel betrayed   \n",
            "3  04-01-2010      1             £750,000-a-goal Weah aims parting shot   \n",
            "4  05-01-2010      1  Leeds arrive in Turkey to the silence of the fans   \n",
            "\n",
            "                                       News 2  \\\n",
            "0                       Obituary: Brian Walsh   \n",
            "1              Investors flee to dollar haven   \n",
            "2  Court deals blow to seizure of drug assets   \n",
            "3            Newcastle pay for Fletcher years   \n",
            "4     One woman's vision offers loan lifeline   \n",
            "\n",
            "                                            News 3  \\\n",
            "0       Workplace blues leave employers in the red   \n",
            "1                      Banks and tobacco in favour   \n",
            "2                       An ideal target for spooks   \n",
            "3  Brown sent to the stands for Scotland qualifier   \n",
            "4          Working Lives: How world leaders worked   \n",
            "\n",
            "                                        News 4  \\\n",
            "0                     Classical review: Rattle   \n",
            "1                        Review: Llama Farmers   \n",
            "2  World steps between two sides intent on war   \n",
            "3         Tourists wary of breaking new ground   \n",
            "4           Working Lives: Tricks of the trade   \n",
            "\n",
            "                                              News 5  \\\n",
            "0                     Dance review: Merce Cunningham   \n",
            "1                       War jitters lead to sell-off   \n",
            "2                       What the region's papers say   \n",
            "3              Canary Wharf climbs into the FTSE 100   \n",
            "4  Working Lives: six-hour days, long lunches and...   \n",
            "\n",
            "                                         News 6  \\\n",
            "0  Genetic tests to be used in setting premiums   \n",
            "1                    Your not-so-secret history   \n",
            "2           Comment: Fear and rage in Palestine   \n",
            "3                           Review: Bill Bailey   \n",
            "4                        Pop review: We Love UK   \n",
            "\n",
            "                                          News 7  \\\n",
            "0                        Opera review: La Bohème   \n",
            "1                  Review: The Northern Sinfonia   \n",
            "2  Poverty and resentment fuels Palestinian fury   \n",
            "3                              Review: Classical   \n",
            "4               World music review: Marisa Monte   \n",
            "\n",
            "                                        News 8  ...  \\\n",
            "0                   Pop review: Britney Spears  ...   \n",
            "1                             Review: Hysteria  ...   \n",
            "2  Republican feud fear as dissident is killed  ...   \n",
            "3              Review: New Contemporaries 2000  ...   \n",
            "4             Art review:  Hollingsworth/Heyer  ...   \n",
            "\n",
            "                                News 16                              News 17  \\\n",
            "0                 Finland 0 - 0 England                   Healy a marked man   \n",
            "1  Why Wenger will stick to his Gunners  Out of luck England hit rock bottom   \n",
            "2             FTSE goes upwardly mobile             At this price?  BP Amoco   \n",
            "3         More cash on way for counties      Cairns carries Kiwis to victory   \n",
            "4          Duisenberg in double trouble           Pru to cut pension charges   \n",
            "\n",
            "                                             News 18  \\\n",
            "0                     Happy birthday Harpers & Queen   \n",
            "1                         Wilkinson out of his depth   \n",
            "2                                            Go fish   \n",
            "3  Year of Blanchflower's flourish when Spurs sto...   \n",
            "4                            Art review: Paul Graham   \n",
            "\n",
            "                                             News 19  \\\n",
            "0  Win unlimited access to the Raindance film fes...   \n",
            "1                   Kinsella sparks Irish power play   \n",
            "2         Bosnian Serb blows himself up to evade law   \n",
            "3      New direct approach brings only pay-per-blues   \n",
            "4               Shearer shot sparks Boro humiliation   \n",
            "\n",
            "                                             News 20  \\\n",
            "0  Labour pledges £800m to bridge north-south divide   \n",
            "1                    Brown banished as Scots rebound   \n",
            "2                       Orange float delayed to 2001   \n",
            "3                           Third Division  round-up   \n",
            "4  Ridsdale's lingering fears as Leeds revisit Tu...   \n",
            "\n",
            "                                             News 21  \\\n",
            "0       Wales: Lib-Lab pact firm despite resignation   \n",
            "1                   Battling Wales cling to lifeline   \n",
            "2  Angry factory workers root out fear, favours a...   \n",
            "3                          Second Division  round-up   \n",
            "4            Champions League: Rangers v Galatasaray   \n",
            "\n",
            "                              News 22  \\\n",
            "0                        Donald Dewar   \n",
            "1   Ehiogu close to sealing Boro move   \n",
            "2  Smith defied advice on dome payout   \n",
            "3            First Division  round-up   \n",
            "4   Champions League: Lazio v Arsenal   \n",
            "\n",
            "                                             News 23  \\\n",
            "0  Regenerating homes  regenerates well-being in ...   \n",
            "1                                 Man-to-man marking   \n",
            "2                        Xerox takes the axe to jobs   \n",
            "3                McLean ends his career with a punch   \n",
            "4                                Lazio 1 - 1 Arsenal   \n",
            "\n",
            "                        News 24  \\\n",
            "0   Win £100 worth of underwear   \n",
            "1                   Match stats   \n",
            "2  Comment: Refugees in Britain   \n",
            "3     Heskey grabs triple crown   \n",
            "4           England in Pakistan   \n",
            "\n",
            "                                             News 25  \n",
            "0                             TV guide: Random views  \n",
            "1  French referee at centre of storm is no strang...  \n",
            "2              Maverick who sparked the new intifada  \n",
            "3                   Weah on his way as City march on  \n",
            "4               England given olive-branch reception  \n",
            "\n",
            "[5 rows x 27 columns]\n"
          ]
        }
      ]
    },
    {
      "cell_type": "markdown",
      "source": [
        "Modeling and Model Evaluation"
      ],
      "metadata": {
        "id": "62Aj7v0z9uhA"
      }
    },
    {
      "cell_type": "code",
      "source": [
        "def get_sentiment(text):\n",
        "    analysis = TextBlob(text)\n",
        "    # Classify polarity as positive, negative or neutral\n",
        "    if analysis.sentiment.polarity > 0:\n",
        "        return 'positive'\n",
        "    elif analysis.sentiment.polarity == 0:\n",
        "        return 'neutral'\n",
        "    else:\n",
        "        return 'negative'\n",
        "\n",
        "# Apply the sentiment analysis function\n",
        "financial_news_df['sentiment'] = financial_news_df['processed_text'].apply(get_sentiment)\n",
        "\n",
        "# Display the dataframe with sentiment\n",
        "print(financial_news_df[['text', 'processed_text', 'sentiment']].head())"
      ],
      "metadata": {
        "colab": {
          "base_uri": "https://localhost:8080/"
        },
        "id": "YqKVEc_u3bcQ",
        "outputId": "85c63294-05ea-4f09-ca66-275734a425a0"
      },
      "execution_count": 12,
      "outputs": [
        {
          "output_type": "stream",
          "name": "stdout",
          "text": [
            "                                                text  \\\n",
            "0  McIlroy's men catch cold from Gudjonsson Obitu...   \n",
            "1  Warning from history points to crash Investors...   \n",
            "2  Comment: Why Israel's peaceniks feel betrayed ...   \n",
            "3  £750,000-a-goal Weah aims parting shot Newcast...   \n",
            "4  Leeds arrive in Turkey to the silence of the f...   \n",
            "\n",
            "                                      processed_text sentiment  \n",
            "0  mcilroy men catch cold gudjonsson obituary bri...  positive  \n",
            "1  warning history points crash investors flee do...   neutral  \n",
            "2  comment israel peaceniks feel betrayed court d...  positive  \n",
            "3  weah aims parting shot newcastle pay fletcher ...  negative  \n",
            "4  leeds arrive turkey silence fans one woman vis...  positive  \n"
          ]
        }
      ]
    },
    {
      "cell_type": "markdown",
      "source": [
        "Prediction"
      ],
      "metadata": {
        "id": "1aLPZliQ95UJ"
      }
    },
    {
      "cell_type": "code",
      "source": [
        "financial_news_df['sentiment'].value_counts().plot(kind='bar', color=['green', 'blue', 'red'])\n",
        "plt.title('Sentiment Analysis of Financial Market News')\n",
        "plt.xlabel('Sentiment')\n",
        "plt.ylabel('Number of Articles')\n",
        "plt.show()"
      ],
      "metadata": {
        "colab": {
          "base_uri": "https://localhost:8080/",
          "height": 519
        },
        "id": "KdG_rX806IUG",
        "outputId": "a77bb548-9578-4129-ca17-ad7dcd981ca5"
      },
      "execution_count": 13,
      "outputs": [
        {
          "output_type": "display_data",
          "data": {
            "text/plain": [
              "<Figure size 640x480 with 1 Axes>"
            ],
            "image/png": "[encoded data removed]"
          },
          "metadata": {}
        }
      ]
    },
    {
      "cell_type": "markdown",
      "source": [
        "**Explanation**\n",
        "\n",
        "In this project, we have developed a sentiment analysis model to predict the sentiment of financial news headlines. We started by loading and preprocessing the data, followed by visualizing the sentiment distribution. After preprocessing the text data, we split the dataset into training and testing sets. We used a nltk to convert the text data into numerical features and trained a logistic regression model. The model's performance was evaluated using accuracy, classification report, and confusion matrix. Finally, we demonstrated how to use the trained model to predict sentiment for new headlines"
      ],
      "metadata": {
        "id": "17eaL2Zv-AVY"
      }
    },
    {
      "cell_type": "markdown",
      "source": [],
      "metadata": {
        "id": "brywSXTc9Hjf"
      }
    }
  ]
}